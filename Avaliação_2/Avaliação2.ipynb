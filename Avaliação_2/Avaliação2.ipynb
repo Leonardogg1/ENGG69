{
 "cells": [
  {
   "cell_type": "markdown",
   "metadata": {},
   "source": [
    "Avaliação II - Aula 03\n",
    "\n"
   ]
  },
  {
   "cell_type": "markdown",
   "metadata": {},
   "source": [
    "1 Utilizando o TensorFlow Playground\n",
    "(http://playground.tensorflow.org), observe, anote e comente o\n",
    "efeito da variação da taxa de aprendizagem e da função de ativação nos\n",
    "diferentes problemas disponíveis para tarefas de classificação e regressão.\n",
    "Comece com uma rede neural de camada única e proceda aumentando o\n",
    "número de camadas e neurônios escondidos.\n",
    "\n",
    "2 Utilizando o TensorFlow Playground\n",
    "(http://playground.tensorflow.org), tente produzir um modelo com\n",
    "problema de sobre-aprendizagem (desempenho de treinamento muito bom e\n",
    "de teste ruim). Para isso, utilize um modelo muito mais complexo do que o\n",
    "necessário para solucionar o problema.Retreine esse modelo ativando a\n",
    "regularização (L1 e L2) e variando o fator de regularização. Observe, anote\n",
    "e comente os efeitos da regularização. Foi possível evitar o\n",
    "sobre-aprendizado com o uso da regularização?\n",
    "\n",
    "Prof. Eduardo Simas (DEEC) Aula 03 - Redes Neurais Artif"
   ]
  },
  {
   "cell_type": "code",
   "execution_count": null,
   "metadata": {},
   "outputs": [],
   "source": []
  }
 ],
 "metadata": {
  "language_info": {
   "name": "python"
  },
  "orig_nbformat": 4
 },
 "nbformat": 4,
 "nbformat_minor": 2
}
